{
 "cells": [
  {
   "cell_type": "code",
   "execution_count": null,
   "metadata": {},
   "outputs": [],
   "source": [
    "# coding: utf-8\n",
    "\n",
    "import numpy as np\n",
    "import torch\n",
    "import os\n",
    "import time\n",
    "\n",
    "# import matplotlib\n",
    "# matplotlib.use('Agg')\n",
    "import matplotlib.pyplot as plt\n",
    "%matplotlib inline  \n",
    "\n",
    "from networks import *\n",
    "from network import CoordRegressionNetwork\n",
    "from torch.utils.data import DataLoader\n",
    "from dataset_factory import DatasetFactory, ROOT_DIR\n",
    "import multiprocessing\n",
    "from tqdm import tqdm\n",
    "\n",
    "# gpu setting\n",
    "os.environ[\"CUDA_VISIBLE_DEVICES\"]=\"1\"\n",
    "torch.backends.cudnn.enabled = True\n",
    "device = torch.device(\"cuda\" if True else \"cpu\")\n",
    "num_threads = multiprocessing.cpu_count()\n",
    "print(\"GPU NUM: %d, Thread NUM: %d\"%(torch.cuda.device_count(),num_threads))\n",
    "\n",
    "%load_ext autoreload\n",
    "%autoreload 2"
   ]
  },
  {
   "cell_type": "code",
   "execution_count": null,
   "metadata": {},
   "outputs": [],
   "source": [
    "# load pretrain model\n",
    "# modelpath = \"./models/resnet18_224_new_best.t7\"\n",
    "# modelname = \"shufflenetv2\"\n",
    "modelname = \"resnet18\"\n",
    "modelpath = \"./models/%s_224_sgd_best.t7\"%(modelname)\n",
    "inputsize = 224\n",
    "net = CoordRegressionNetwork(n_locations=16, backbone=modelname).to(device)\n",
    "\n",
    "train_dataset = DatasetFactory.get_train_dataset(\"resnet\", inputsize)\n",
    "train_dataloader = DataLoader(train_dataset, batch_size=256,\n",
    "                        shuffle=True, num_workers = num_threads)\n",
    "\n",
    "test_dataset = DatasetFactory.get_test_dataset(\"resnet\", inputsize)\n",
    "test_dataloader = DataLoader(test_dataset, batch_size=256,\n",
    "                        shuffle=False, num_workers = num_threads)"
   ]
  },
  {
   "cell_type": "code",
   "execution_count": null,
   "metadata": {},
   "outputs": [],
   "source": [
    "from dataloader import display_pose\n",
    "plt.figure(figsize=(20,140))\n",
    "\n",
    "with torch.no_grad():  \n",
    "    net.load_state_dict(torch.load(modelpath))\n",
    "    net = net.eval()\n",
    "\n",
    "    for i_batch, sample_batched in enumerate(tqdm(test_dataloader)):\n",
    "\n",
    "        images = sample_batched['image'].to(device)\n",
    "        poses = sample_batched['pose'].to(device)\n",
    "        \n",
    "        t0 = time.clock()\n",
    "        coords, heatmaps = net(images)\n",
    "        t1 = time.clock()\n",
    "        print('average forward seconds=%f s| fps=%d'%((t1-t0),int(1/((t1-t0)))))\n",
    "        \n",
    "        for ids in range(40,60):\n",
    "            display_pose(images[ids][:3,:,:],coords[ids],ids)\n",
    "        plt.show()\n",
    "        break"
   ]
  },
  {
   "cell_type": "code",
   "execution_count": null,
   "metadata": {},
   "outputs": [],
   "source": [
    "plt.imshow(heatmaps[0, 8].data.cpu().numpy())\n",
    "plt.show()"
   ]
  },
  {
   "cell_type": "code",
   "execution_count": null,
   "metadata": {
    "scrolled": false
   },
   "outputs": [],
   "source": [
    "from torchsummary import summary\n",
    "import torch\n",
    "from networks import *\n",
    "from networks.senet import se_resnet\n",
    "from torchvision.models import resnet18\n",
    "import os\n",
    "device = torch.device(\"cuda\" if True else \"cpu\")\n",
    "os.environ[\"CUDA_VISIBLE_DEVICES\"]=\"1\"\n",
    "\n",
    "# model = se_resnet.senet18_ed().to(device)\n",
    "model = resnet18_ed().to(device)\n",
    "# model = resnet18().to(device)\n",
    "# model = ShuffleNetV2.shufflenetv2_ed(width_mult=1.0).to(device)\n",
    "# model = MobileNetV2.mobilenetv2_ed(width_mult=1.0).to(device)\n",
    "# model = nn.Sequential(*(list(model.children())[:-3]))\n",
    "summary(model, input_size=(3, 224, 224))\n",
    "# print(list(model.children())[:-1])"
   ]
  },
  {
   "cell_type": "code",
   "execution_count": null,
   "metadata": {},
   "outputs": [],
   "source": [
    "from thop import profile\n",
    "from torchsummary import summary\n",
    "import torch\n",
    "from networks import *\n",
    "from torchvision.models import resnet18\n",
    "\n",
    "import os\n",
    "device = torch.device(\"cuda\" if False else \"cpu\")\n",
    "\n",
    "model = resnet.resnet18_ed().to(device)\n",
    "model = UNet().to(device)\n",
    "# model = resnet18().to(device)\n",
    "# model = ShuffleNetV2.shufflenetv2_ed(width_mult=1.0).to(device)\n",
    "# model = MobileNetV2.mobilenetv2_ed(width_mult=1.0).to(device)\n",
    "flops, params = profile(model, input_size=(1, 3, 224,224))\n",
    "print(params/(1024**2), flops/(1024**3))"
   ]
  },
  {
   "cell_type": "code",
   "execution_count": null,
   "metadata": {},
   "outputs": [],
   "source": []
  }
 ],
 "metadata": {
  "kernelspec": {
   "display_name": "Python 3",
   "language": "python",
   "name": "python3"
  },
  "language_info": {
   "codemirror_mode": {
    "name": "ipython",
    "version": 3
   },
   "file_extension": ".py",
   "mimetype": "text/x-python",
   "name": "python",
   "nbconvert_exporter": "python",
   "pygments_lexer": "ipython3",
   "version": "3.6.2"
  }
 },
 "nbformat": 4,
 "nbformat_minor": 2
}
